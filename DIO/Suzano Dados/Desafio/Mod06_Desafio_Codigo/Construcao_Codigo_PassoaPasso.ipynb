{
 "cells": [
  {
   "cell_type": "code",
   "execution_count": null,
   "metadata": {},
   "outputs": [
    {
     "data": {
      "text/plain": [
       "[{'mes': 'janeiro', 'valor_venda': 5000.0},\n",
       " {'mes': 'fevereiro', 'valor_venda': 6000.0}]"
      ]
     },
     "metadata": {},
     "output_type": "display_data"
    },
    {
     "name": "stdout",
     "output_type": "stream",
     "text": [
      "{'mes': 'fevereiro', 'valor_venda': 6000.0}\n",
      "6000.0\n"
     ]
    }
   ],
   "source": [
    "\"\"\" def crescimento_percentual(vendas_mensais):\n",
    "    # TODO: Extraia os valores de venda de dois meses:\n",
    "    mes1 = vendas_mensais[0][]\n",
    "    \n",
    "    # TODO: Calcule o crescimento percentual\n",
    "    \n",
    " \"\"\"\n",
    "vendas_mensais = []\n",
    "\n",
    "for i in range(2):\n",
    "    mes = input()\n",
    "    valor_venda = float(input())\n",
    "    vendas_mensais.append({\"mes\": mes, \"valor_venda\": valor_venda})\n",
    "\n",
    "# TODO: Chame a função e imprime o resultado:\n",
    "display(vendas_mensais)\n",
    "print(vendas_mensais[1])\n",
    "print(vendas_mensais[1][\"valor_venda\"])\n",
    "\n",
    "print(f\"Crescimento percentual de vendas: {resultado:.2f}%\")"
   ]
  },
  {
   "cell_type": "code",
   "execution_count": 11,
   "metadata": {},
   "outputs": [
    {
     "name": "stdout",
     "output_type": "stream",
     "text": [
      "Crescimento percentual de vendas: 20.00%\n"
     ]
    }
   ],
   "source": [
    "def crescimento_percentual(vendas_mensais):\n",
    "    # TODO: Extraia os valores de venda de dois meses:\n",
    "    mes1 = vendas_mensais[0][\"valor_venda\"]\n",
    "    mes2 = vendas_mensais[1][\"valor_venda\"]\n",
    "    \n",
    "    # TODO: Calcule o crescimento percentual\n",
    "    crescimento_percentual = ((mes2 - mes1) / mes1) * 100\n",
    "    return crescimento_percentual\n",
    "\n",
    "vendas_mensais = []\n",
    "\n",
    "for i in range(2):\n",
    "    mes = input()\n",
    "    valor_venda = float(input())\n",
    "    vendas_mensais.append({\"mes\": mes, \"valor_venda\": valor_venda})\n",
    "\n",
    "# TODO: Chame a função e imprime o resultado:\n",
    "resultado = crescimento_percentual(vendas_mensais)\n",
    "print(f\"Crescimento percentual de vendas: {resultado:.2f}%\")"
   ]
  },
  {
   "cell_type": "code",
   "execution_count": 18,
   "metadata": {},
   "outputs": [
    {
     "name": "stdout",
     "output_type": "stream",
     "text": [
      "a: 5.0\n",
      "b: 11.0\n",
      "c: 18.0\n"
     ]
    }
   ],
   "source": [
    "def valor_acumulado_vendas(vendas_mensais):\n",
    "    acumulado = 0\n",
    "    vendas_acumuladas = []\n",
    "    \n",
    "    # TODO: Calcule o valor acumulado mês a mês:\n",
    "    for venda in vendas_mensais:\n",
    "      valor = venda[\"valor_venda\"]\n",
    "      mes = venda[\"mes\"]\n",
    "      acumulado = acumulado + valor\n",
    "      vendas_acumuladas.append(f\"{mes}: {valor:.1f}\")\n",
    "    # TODO: Retorne vendas_acumuladas:\n",
    "    return vendas_acumuladas\n",
    "    \n",
    "\n",
    "vendas_mensais = []\n",
    "n = int(input())\n",
    "\n",
    "for i in range(n):\n",
    "    mes = input()\n",
    "    valor_venda = float(input())\n",
    "    vendas_mensais.append({\"mes\": mes, \"valor_venda\": valor_venda})\n",
    "\n",
    "# TODO: Chame a função e imprima o resultado:\n",
    "resultado = valor_acumulado_vendas(vendas_mensais)\n",
    "for r in resultado:\n",
    "   print(r)"
   ]
  }
 ],
 "metadata": {
  "kernelspec": {
   "display_name": "Python 3",
   "language": "python",
   "name": "python3"
  },
  "language_info": {
   "codemirror_mode": {
    "name": "ipython",
    "version": 3
   },
   "file_extension": ".py",
   "mimetype": "text/x-python",
   "name": "python",
   "nbconvert_exporter": "python",
   "pygments_lexer": "ipython3",
   "version": "3.12.8"
  }
 },
 "nbformat": 4,
 "nbformat_minor": 2
}
